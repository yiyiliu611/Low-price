{
 "cells": [
  {
   "cell_type": "code",
   "execution_count": 1,
   "metadata": {},
   "outputs": [],
   "source": [
    "import bs4\n",
    "from urllib.request import urlopen as uReq\n",
    "from bs4 import BeautifulSoup as soup\n",
    "import requests"
   ]
  },
  {
   "cell_type": "code",
   "execution_count": 2,
   "metadata": {},
   "outputs": [],
   "source": [
    "source=requests.get(\"https://coinmarketcap.com/currencies/ecobit/historical-data/?start=20130428&end=20191024\").text\n",
    "page_soup=soup(source,\"lxml\")\n",
    "EcoBit=page_soup.find_all(\"tr\",{\"class\":\"text-right\"})\n",
    "filename=\"EcoBit-Low.csv\"\n",
    "f=open(filename,\"w\")\n",
    "headers=\"Date,Price\\n\"\n",
    "f.write(headers)\n",
    "for i in range(len(EcoBit)):\n",
    "    date=EcoBit[i].td.text\n",
    "    price_list = EcoBit[i].find_all(\"td\")\n",
    "    price=price_list[2].text\n",
    "    row=date.replace(\",\",\" \")+\",\"+price + \"\\n\" \n",
    "    f.write(row)\n",
    "f.close()"
   ]
  },
  {
   "cell_type": "code",
   "execution_count": null,
   "metadata": {},
   "outputs": [],
   "source": []
  }
 ],
 "metadata": {
  "kernelspec": {
   "display_name": "Python 3",
   "language": "python",
   "name": "python3"
  },
  "language_info": {
   "codemirror_mode": {
    "name": "ipython",
    "version": 3
   },
   "file_extension": ".py",
   "mimetype": "text/x-python",
   "name": "python",
   "nbconvert_exporter": "python",
   "pygments_lexer": "ipython3",
   "version": "3.7.3"
  }
 },
 "nbformat": 4,
 "nbformat_minor": 2
}
